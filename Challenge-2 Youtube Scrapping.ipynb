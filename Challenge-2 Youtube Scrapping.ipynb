{
 "cells": [
  {
   "cell_type": "code",
   "execution_count": 1,
   "id": "ad3be379",
   "metadata": {},
   "outputs": [],
   "source": [
    "from selenium import webdriver\n",
    "from selenium.webdriver.common.by import By\n",
    "import time\n",
    "import mysql.connector\n",
    "import logging\n",
    "\n",
    "logging.basicConfig(filename=\"mysql.log\", level=logging.INFO, format=\"%(asctime)s-%(levelname)s-%(message)s\")\n",
    "\n",
    "class MySQLDatabase:\n",
    "    def __init__(self, host, user, password, database):\n",
    "        self.host = host\n",
    "        self.user = user\n",
    "        self.password = password\n",
    "        self.database = database\n",
    "        try:\n",
    "            self.connection = mysql.connector.connect(\n",
    "                host=self.host,\n",
    "                user=self.user,\n",
    "                password=self.password,\n",
    "                database=self.database\n",
    "            )\n",
    "            self.cursor = self.connection.cursor()\n",
    "            logging.info(\"Connection established\")\n",
    "        except Exception as e:\n",
    "            logging.error(f\"Failed to connect to MySQL database: {e}\")\n",
    "            print(f\"Failed to connect to MySQL database: {e}\")\n",
    "    \n",
    "    # you have to design different table for different method      \n",
    "    def create_table(self, table_name, columns):\n",
    "        self.table_name = table_name\n",
    "        self.columns = columns\n",
    "        try:\n",
    "            self.cursor.execute(f\"CREATE TABLE if not exists {self.table_name} ({self.columns})\")\n",
    "            self.connection.commit()\n",
    "            logging.info(\"Table has been created\")\n",
    "            print(\"Table has been created\")\n",
    "        except Exception as e:\n",
    "            logging.error(\"Exception occurred\", e)\n",
    "            \n",
    "    def channel_details(self, table_name, channel_id):\n",
    "        self.table_name = table_name\n",
    "        driver = webdriver.Chrome()\n",
    "        driver.get(f'https://www.youtube.com/@{channel_id}')\n",
    "        channel_name = driver.find_element(By.CSS_SELECTOR,'#text-container').text\n",
    "        subscribers = driver.find_element(By.CSS_SELECTOR, '#subscriber-count').text\n",
    "        category = driver.find_element(By.CSS_SELECTOR, '#title-text').text\n",
    "        show_more_button = driver.find_element(By.XPATH,'//*[@id=\"play-button\"]/ytd-button-renderer/yt-button-shape/a')\n",
    "        show_more_button.click()\n",
    "        time.sleep(4)\n",
    "        video_count = driver.find_elements(By.CSS_SELECTOR,'#publisher-container > div > yt-formatted-string > span:nth-child(3)')[0].text\n",
    "        query = (f\"INSERT INTO {self.table_name} VALUES (%s, %s, %s, %s)\")\n",
    "        try:\n",
    "            values = (channel_name, subscribers, category, video_count)\n",
    "            self.cursor.execute(query, values)\n",
    "            rowscount = self.cursor.rowcount\n",
    "            self.connection.commit()\n",
    "            logging.info(f\"Inserted {rowscount} document sucessfully\")\n",
    "            self.cursor.close()\n",
    "            logging.info(\"Disconnected from MYSQL.\")\n",
    "        except Exception as e:\n",
    "            logging.error(f\"Failed to insert row into table: {e}\")\n",
    "            print(f\"Failed to insert row into table: {e}\")        \n",
    "        driver.quit()\n",
    "           \n",
    "    def video_details(self, table_name, video_id):\n",
    "        self.table_name = table_name\n",
    "        driver = webdriver.Chrome()\n",
    "        driver.get(f\"https://www.youtube.com/watch?v={video_id}\")\n",
    "        show_more_button = driver.find_element(By.CSS_SELECTOR,'#expand')\n",
    "        show_more_button.click()\n",
    "        time.sleep(30)\n",
    "        Likes = driver.find_element(By.CSS_SELECTOR,'#segmented-like-button > ytd-toggle-button-renderer > yt-button-shape > button > div.cbox.yt-spec-button-shape-next--button-text-content > span').text\n",
    "        Views = driver.find_element(By.CSS_SELECTOR,'#info > span:nth-child(1)').text\n",
    "        Title = driver.find_element(By.CSS_SELECTOR,'#title > h1 > yt-formatted-string').text\n",
    "        Description = driver.find_elements(By.CSS_SELECTOR,'#description-inline-expander > yt-attributed-string > span')[0].text\n",
    "        \n",
    "        query = (f\"INSERT INTO {self.table_name} VALUES (%s, %s, %s, %s)\")\n",
    "        try:\n",
    "            values = (Title, Description, Likes, Views)\n",
    "            self.cursor.execute(query, values)\n",
    "            rowscount = self.cursor.rowcount\n",
    "            self.connection.commit()\n",
    "            logging.info(f\"Inserted {rowscount} document sucessfully\")\n",
    "            self.cursor.close()\n",
    "            logging.info(\"Disconnected from MYSQL.\")\n",
    "        except Exception as e:\n",
    "            logging.error(f\"Failed to insert row into table: {e}\")\n",
    "            print(f\"Failed to insert row into table: {e}\")\n",
    "\n",
    "    def video_comments(self, video_id):\n",
    "        try:\n",
    "            driver = webdriver.Chrome()\n",
    "            driver.get(f\"https://www.youtube.com/watch?v={video_id}\")\n",
    "            #Get the height of the entire document\n",
    "            last_height = driver.execute_script(\"return document.documentElement.scrollHeight\")\n",
    "            while True:\n",
    "                # Scroll to the bottom of the page using JavaScript\n",
    "                driver.execute_script(\"window.scrollTo(0, document.documentElement.scrollHeight);\")\n",
    "                time.sleep(4)\n",
    "                new_height = driver.execute_script(\"return document.documentElement.scrollHeight\")\n",
    "                if new_height == last_height:\n",
    "                    break\n",
    "                last_height = new_height\n",
    "\n",
    "            usernames = driver.find_elements(By.CSS_SELECTOR, '#author-text')\n",
    "            comments = driver.find_elements(By.CSS_SELECTOR, '#content-text')\n",
    "\n",
    "            for i in range(len(usernames)):\n",
    "                username = usernames[i].text\n",
    "                comment = comments[i].text\n",
    "                query = (f\"INSERT INTO {self.table_name} VALUES (%s, %s)\")\n",
    "                values = (username, comment)\n",
    "                self.cursor.execute(query, values)\n",
    "                \n",
    "            self.connection.commit()\n",
    "            # Close the cursor\n",
    "            self.cursor.close()\n",
    "            logging.info(\"Comments upload successful\")\n",
    "            print(\"Comments upload successful\")\n",
    "        except Exception as e:\n",
    "            logging.error(f\"Failed to upload comments: {e}\")\n",
    "            print(f\"Failed to upload comments: {e}\")\n",
    "        finally:\n",
    "            # Close the browser\n",
    "            driver.quit()\n"
   ]
  },
  {
   "cell_type": "code",
   "execution_count": 2,
   "id": "f4743fa1",
   "metadata": {},
   "outputs": [],
   "source": [
    "db = MySQLDatabase(hostname, your username, your password, database)"
   ]
  },
  {
   "cell_type": "code",
   "execution_count": 3,
   "id": "ea36b3b1",
   "metadata": {},
   "outputs": [
    {
     "name": "stdout",
     "output_type": "stream",
     "text": [
      "Table has been created\n"
     ]
    }
   ],
   "source": [
    "db.create_table(\"ytscrap\", \"username VARCHAR(100), comment VARCHAR(2000)\")"
   ]
  },
  {
   "cell_type": "code",
   "execution_count": 4,
   "id": "483b0cad",
   "metadata": {},
   "outputs": [
    {
     "name": "stdout",
     "output_type": "stream",
     "text": [
      "Comments upload successful\n"
     ]
    }
   ],
   "source": [
    "db.video_comments(enter video id)"
   ]
  },
  {
   "cell_type": "code",
   "execution_count": 3,
   "id": "414ec948",
   "metadata": {},
   "outputs": [
    {
     "name": "stdout",
     "output_type": "stream",
     "text": [
      "Table has been created\n"
     ]
    }
   ],
   "source": [
    "db.create_table(\"youtube\", \"TITLE VARCHAR(2000), DESCRIPTION VARCHAR(3000), LIKES VARCHAR(100), VIEWS VARCHAR(100)\")"
   ]
  },
  {
   "cell_type": "code",
   "execution_count": 3,
   "id": "18a9e93a",
   "metadata": {},
   "outputs": [],
   "source": [
    "db.video_details(\"youtube\", enter video id)"
   ]
  },
  {
   "cell_type": "code",
   "execution_count": 50,
   "id": "fd216aae",
   "metadata": {},
   "outputs": [
    {
     "name": "stdout",
     "output_type": "stream",
     "text": [
      "Table has been created\n"
     ]
    }
   ],
   "source": [
    "db.create_table(\"channel\", \"ChannelName VARCHAR(800), Subscribers VARCHAR(200), Category VARCHAR(500), TotalVideos VARCHAR(500)\")"
   ]
  },
  {
   "cell_type": "code",
   "execution_count": 60,
   "id": "814a8113",
   "metadata": {},
   "outputs": [],
   "source": [
    "db.channel_details(\"channel\", enter channel id)"
   ]
  },
  {
   "cell_type": "code",
   "execution_count": null,
   "id": "825a2c4e",
   "metadata": {},
   "outputs": [],
   "source": []
  }
 ],
 "metadata": {
  "kernelspec": {
   "display_name": "Python 3 (ipykernel)",
   "language": "python",
   "name": "python3"
  },
  "language_info": {
   "codemirror_mode": {
    "name": "ipython",
    "version": 3
   },
   "file_extension": ".py",
   "mimetype": "text/x-python",
   "name": "python",
   "nbconvert_exporter": "python",
   "pygments_lexer": "ipython3",
   "version": "3.9.12"
  }
 },
 "nbformat": 4,
 "nbformat_minor": 5
}
